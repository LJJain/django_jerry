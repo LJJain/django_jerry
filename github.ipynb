{
 "cells": [
  {
   "cell_type": "markdown",
   "metadata": {},
   "source": [
    "# GitHub 指令"
   ]
  },
  {
   "cell_type": "markdown",
   "metadata": {},
   "source": [
    "## 開啟git指令的方式:\n",
    "\n",
    "- Command line\n",
    "- Git bash\n",
    "- Vscode terminal"
   ]
  },
  {
   "cell_type": "markdown",
   "metadata": {},
   "source": [
    "- 版本查詢:\n",
    "    ```\n",
    "    git version\n",
    "    ```"
   ]
  },
  {
   "cell_type": "markdown",
   "metadata": {},
   "source": [
    "- 建立基本資訊 :\n",
    "\n",
    "    + 建立全域資訊 :\n",
    "    \n",
    "        ```\n",
    "        git config --global user.name username\n",
    "        git config --global user.email useremail\n",
    "        ```\n",
    "\n",
    "    + 建立區域資訊:\n",
    "\n",
    "        ```\n",
    "        git config user.name username\n",
    "        git config user.email useremail\n",
    "        ```\n",
    "\n",
    "    + 查詢使用者config詳細資訊:\n",
    "\n",
    "        ```\n",
    "        git config --list\n",
    "        ```"
   ]
  },
  {
   "cell_type": "markdown",
   "metadata": {},
   "source": [
    "- 產生git程式碼倉庫\n",
    "\n",
    "    ```\n",
    "    git init\n",
    "    ```"
   ]
  },
  {
   "cell_type": "markdown",
   "metadata": {},
   "source": [
    "### vscode 檢視隱藏目錄\n",
    "        1. Settings -> files.exclude\n",
    "        2. 刪除 .git 選項"
   ]
  },
  {
   "cell_type": "markdown",
   "metadata": {},
   "source": [
    "- 本地資訊檢視 :\n",
    "\n",
    "    ```\n",
    "    cat .git/config\n",
    "    ```"
   ]
  },
  {
   "cell_type": "markdown",
   "metadata": {},
   "source": [
    "- 將檔案傳送至暫存區: (U -> A) / 檔案修改後確認 (M -> A)\n",
    "\n",
    "    ```\n",
    "    git add filename\n",
    "    ```\n",
    "- 將全部檔案傳送至暫存區:\n",
    "\n",
    "    ```\n",
    "    git add .\n",
    "    ```"
   ]
  },
  {
   "cell_type": "markdown",
   "metadata": {},
   "source": [
    "- 檢視檔案狀態\n",
    "\n",
    "    ```\n",
    "    git status\n",
    "    ```\n",
    "\n",
    "- Git狀態\n",
    "\n",
    "    + U : Untrack\n",
    "    + A : Added\n",
    "    + M : Modified\n",
    "    + D : Deleted"
   ]
  },
  {
   "cell_type": "markdown",
   "metadata": {},
   "source": [
    "- 恢復刪除的檔案 (D -> U) : git add 動作前\n",
    "\n",
    "    ```\n",
    "    git restore filename\n",
    "    ```\n",
    "- 確認刪除\n",
    "\n",
    "    ```\n",
    "    git add\n",
    "    ```"
   ]
  },
  {
   "cell_type": "markdown",
   "metadata": {},
   "source": [
    "### 樹狀圖顯示git變動\n",
    "\n",
    "-  樹狀圖顯示git變動(查詢SHA-1編碼)\n",
    "\n",
    "    ```\n",
    "    tree .git\n",
    "    tree/F .git\n",
    "    ```\n",
    "\n",
    "- 檢視檔案控管內容:\n",
    "\n",
    "    ```\n",
    "    git cat-file -t SHA-1(前6碼即可)\n",
    "    ```\n",
    "\n",
    "    + t (型態)\n",
    "    + p (內容)\n",
    "    + s (大小)\n",
    "\n",
    "- 檢視控管檔案指令:\n",
    "\n",
    "    ```\n",
    "    git ls-files\n",
    "    ```\n",
    "\n",
    "    + 顯示SHA-1編碼:\n",
    "\n",
    "        ```\n",
    "        git ls-files -s\n",
    "        ```"
   ]
  },
  {
   "cell_type": "markdown",
   "metadata": {},
   "source": [
    "- 暫存區修改後恢復 (M -> A)\n",
    "\n",
    "    1. Ctrl + Z\n",
    "\n",
    "    2. git 指令\n",
    "\n",
    "        ```\n",
    "        git checkout filename\n",
    "        ```"
   ]
  },
  {
   "cell_type": "markdown",
   "metadata": {},
   "source": [
    "## 檔案提交至倉庫區"
   ]
  },
  {
   "cell_type": "markdown",
   "metadata": {},
   "source": [
    "- 檔案提交至倉庫區\n",
    "\n",
    "    ```\n",
    "    git commit -m \"commit message\"\n",
    "    ```\n",
    "\n",
    "    + add + commit\n",
    "\n",
    "        ```\n",
    "        git commit -am \"commit message\"\n",
    "        ```\n",
    "- 修改commit 註解 (只能修改最後一次的commit)\n",
    "\n",
    "    ```\n",
    "    git commit --amend\n",
    "    ```\n",
    "    + 會進入vim 編輯器\n",
    "\n",
    "        - esc : normal / insert 切換\n",
    "        - i : insert\n",
    "        - a : append\n",
    "        - o : new line\n",
    "        - :w : 代表寫入 = 儲存\n",
    "        - :q : 離開程式\n",
    "        - :! : 強制執行\n",
    "        - :q! : 回到個動作\n"
   ]
  },
  {
   "cell_type": "markdown",
   "metadata": {},
   "source": [
    "- 查看commit 紀錄\n",
    "\n",
    "    ```\n",
    "    git log\n",
    "    ```\n",
    "\n",
    "    + 單行顯示log\n",
    "\n",
    "        ```\n",
    "        git log --oneline\n",
    "        ```\n",
    "    + 顯示兩筆\n",
    "\n",
    "        ```\n",
    "        git log 2\n",
    "        ```\n",
    "    + 檢視區間日期資料\n",
    "\n",
    "        ```\n",
    "        git log --before='年-月-日'\n",
    "        ```\n",
    "    + 不顯示SHA-1編碼\n",
    "\n",
    "        ```\n",
    "        git shortlog\n",
    "        ```\n",
    "    + 顯示分支log狀態(樹狀圖)\n",
    "\n",
    "        ```\n",
    "        git log --graph\n",
    "        ```"
   ]
  },
  {
   "cell_type": "markdown",
   "metadata": {},
   "source": [
    "- 檔案刪除\n",
    "\n",
    "    + 手動刪除(工作區) : 無控管\n",
    "        - 檔案恢復\n",
    "        \n",
    "            ```\n",
    "            git restore\n",
    "            ```\n",
    "\n",
    "    + 暫存區檔案進入工作區 (A -> U)\n",
    "        - 恢復檔案\n",
    "\n",
    "            ```\n",
    "            git restore --staged filename\n",
    "            ```\n",
    "\n",
    "    + 倉庫區刪除檔案(倉庫區移至工作區): -> U\n",
    "\n",
    "        ```\n",
    "        git rm --cached filename\n",
    "        ```\n",
    "\n",
    "        - 刪除後恢復\n",
    "\n",
    "            ```\n",
    "            git restore\n",
    "            ```\n",
    "        - 確認刪除\n",
    "\n",
    "            ```\n",
    "            git add\n",
    "            ```\n",
    "\n"
   ]
  },
  {
   "cell_type": "markdown",
   "metadata": {},
   "source": [
    "## Git 分支\n",
    "\n",
    "- main (主要分支)"
   ]
  },
  {
   "cell_type": "markdown",
   "metadata": {},
   "source": [
    "- 觀察目前所有分支 : (* 為當前分支)\n",
    "\n",
    "    ```\n",
    "    git branch\n",
    "    ```\n",
    "\n",
    "- 新增分支\n",
    "\n",
    "    ```\n",
    "    git branch branch_naem\n",
    "    ```\n",
    "\n",
    "- 切換分支\n",
    "\n",
    "    ```\n",
    "    git checkout branch_name\n",
    "    ```\n",
    "\n",
    "- 新增後直接切換分支\n",
    "\n",
    "    ```\n",
    "    git checkout -b branch_name\n",
    "    ```\n",
    "\n",
    "- 分支修改名稱\n",
    "\n",
    "    ```\n",
    "    git branch -m old_name new_name\n",
    "\n",
    "- 刪除分支 (先確定不在該分支上作業)\n",
    "\n",
    "    ```\n",
    "    git branch -D branc_hname\n",
    "    ```"
   ]
  },
  {
   "cell_type": "markdown",
   "metadata": {},
   "source": [
    "### 切換過去的commit-object"
   ]
  },
  {
   "cell_type": "markdown",
   "metadata": {},
   "source": [
    "- 切換 commit-object (SHA-1)\n",
    "\n",
    "    ```\n",
    "    git checkout commit_object\n",
    "    ```\n",
    "\n",
    "- 回到過去的commit-object 並 合併\n",
    "\n",
    "    1. 先 checkout commit_object 回到過去的 commit\n",
    "    2. 建立新的分支並切換到新分支\n",
    "    3. 修改/新增 內容\n",
    "    4. add + commit\n",
    "    5. 切換回主分支\n",
    "    6. merge 合併\n",
    "\n",
    "        ```\n",
    "        git merge branch_name\n",
    "        ```\n",
    "    7. 衝突確認\n",
    "\n",
    "- 切換commit後，顯示其他所有commit-object\n",
    "\n",
    "    ```\n",
    "    git reflog\n",
    "    ```\n"
   ]
  },
  {
   "cell_type": "markdown",
   "metadata": {},
   "source": [
    "## 真正恢復到某一個commit\n",
    "#### 切換commit後，HEAD也一併跟著變動 (不須新建分支)\n",
    "\n",
    "- 使用時機\n",
    "    1. commit 太多需要整理\n",
    "    2. 某一個commit才是比較適合的版本\n",
    "    3. 修改太多但沒有最新commit版本好\n",
    "    4. ....\n",
    "\n",
    "    ```\n",
    "    git reset (--hard) commit-object\n",
    "    ```\n",
    "\n",
    "- reset 模式 (預設是 mixed)\n",
    "\n",
    "    + --mixed : 後面新增檔案(修改內容)不會消失 -> (會變成 untracked)\n",
    "    + --soft : 新增/修改檔案內容不會消失，進入暫存區 -> (變成A模式)\n",
    "    + --hard : 新增/修改的檔案內容會直接消失\n",
    "    "
   ]
  },
  {
   "cell_type": "markdown",
   "metadata": {},
   "source": [
    "# Git remote 遠端版本控管"
   ]
  },
  {
   "cell_type": "markdown",
   "metadata": {},
   "source": [
    "### github 遠端版控指令"
   ]
  },
  {
   "cell_type": "markdown",
   "metadata": {},
   "source": [
    "- 檢視目前所有遠端url\n",
    "\n",
    "    ```\n",
    "    git remote -v\n",
    "    ```\n",
    "\n",
    "- 將最新的commit 推送至遠端\n",
    "    \n",
    "    ```\n",
    "    git push -u origin branch_name (第一次)\n",
    "    git push (之後)\n",
    "\n",
    "    git push -f (-f:force模式 無視衝突，強制覆蓋遠端)\n",
    "    ```\n",
    "\n",
    "- 將遠端檔案拉回本地端\n",
    "\n",
    "    ```\n",
    "    git pull\n",
    "    ```\n",
    "\n",
    "    + 第一次pull遠端檔案至本地端 (不同電腦，尚未commit過)\n",
    "        \n",
    "        - 要先 git remote add oringin git_url.git\n",
    "\n",
    "        ```\n",
    "        git pull <远程主机名> <远程分支名>:<本地分支名>\n",
    "        git pull origin main:main\n",
    "        ```\n",
    "\n",
    "- 複製別人的Github\n",
    "\n",
    "    ```\n",
    "    git clone git_url.git\n",
    "    ```"
   ]
  },
  {
   "cell_type": "markdown",
   "metadata": {},
   "source": [
    "- 新增遠端倉庫名稱\n",
    "\n",
    "    ```\n",
    "    git remote add oringin git_url.git\n",
    "    ```\n",
    "\n",
    "- 刪除遠端分支\n",
    "\n",
    "    ```\n",
    "    git push --delete origin branch_name\n",
    "    ```\n",
    "\n",
    "- 顯示遠端分支\n",
    "\n",
    "    ```\n",
    "    git branch -a\n",
    "    ```\n",
    "\n",
    "- 同步遠端分支並建立\n",
    "\n",
    "    ```\n",
    "    git checkout -b branch_name origin/branch_name\n",
    "    ```"
   ]
  },
  {
   "cell_type": "markdown",
   "metadata": {},
   "source": [
    "- 加入不需要控管的檔案\n",
    "\n",
    "    + 新增 .gitignore 檔案"
   ]
  }
 ],
 "metadata": {
  "kernelspec": {
   "display_name": "Python 3.10.7 64-bit",
   "language": "python",
   "name": "python3"
  },
  "language_info": {
   "name": "python",
   "version": "3.10.7"
  },
  "orig_nbformat": 4,
  "vscode": {
   "interpreter": {
    "hash": "08c83f90e59b43036aea1f3b34d9c5fe11538c62f03bca82245ae9d6fb54bc62"
   }
  }
 },
 "nbformat": 4,
 "nbformat_minor": 2
}
